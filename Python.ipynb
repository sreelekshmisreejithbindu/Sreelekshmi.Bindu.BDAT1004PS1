{
 "cells": [
  {
   "cell_type": "markdown",
   "id": "f84600f5",
   "metadata": {},
   "source": [
    "Question 6\n",
    "\n",
    "You can turn a word into pig-Latin using the following two rules (simplified):• If the word starts with a consonant, move that letter to the end and append'ay'. For example, 'happy' becomes 'appyhay' and 'pencil' becomes 'encilpay'.• If the word starts with a vowel, simply append 'way' to the end of the word.For example, 'enter' becomes 'enterway' and 'other' becomes 'otherway' . Forour purposes, there are 5 vowels: a, e, i, o, u (so we count y as a consonant).Write a function pig() that takes a word (i.e., a string) as input and returns its pig-Latin form. Your function should still work if the input word contains upper casecharacters. Your output should always be lower case however."
   ]
  },
  {
   "cell_type": "code",
   "execution_count": 1,
   "id": "c1c86a39",
   "metadata": {},
   "outputs": [
    {
     "name": "stdout",
     "output_type": "stream",
     "text": [
      "Enter a string\n",
      "happy\n",
      "appyhay\n",
      "\n",
      "Enter a string\n",
      "enter\n",
      "enterway\n"
     ]
    }
   ],
   "source": [
    "def pig(word):\n",
    "    string = word\n",
    "    arr_char = []\n",
    "    for x in string:\n",
    "        arr_char.append(x)\n",
    "    concat_string = \"\" \n",
    "    x = arr_char[0]\n",
    "        \n",
    "    if(x == 'a' or x == 'e' or x == 'i' or x == 'o' or x == 'u' ):\n",
    "            arr_char.append('way')\n",
    "    else:\n",
    "        arr_char.pop(0)\n",
    "        arr_char.append(x)\n",
    "        arr_char.append('ay')\n",
    "            \n",
    "    for x in arr_char:\n",
    "        concat_string += x\n",
    "            \n",
    "    return concat_string\n",
    "    \n",
    "print (\"Enter a string\")\n",
    "get_value_from_user = input()\n",
    "print(pig(get_value_from_user))\n",
    "print(\"\\nEnter a string\")\n",
    "get_value_from_user = input()\n",
    "print(pig(get_value_from_user))\n",
    "\n"
   ]
  },
  {
   "cell_type": "markdown",
   "id": "32585b16",
   "metadata": {},
   "source": [
    "Question 7\n",
    "\n",
    "File bloodtype1.txt records blood-types of patients (A, B, AB, O or OO) at a clinic.Write a function bldcount() that reads the file with name name and reports (i.e.,prints) how many patients there are in each bloodtype"
   ]
  },
  {
   "cell_type": "code",
   "execution_count": 11,
   "id": "703d6d4d",
   "metadata": {},
   "outputs": [
    {
     "name": "stdout",
     "output_type": "stream",
     "text": [
      "There are 15 patients with blood group A\n",
      "There are 1 patients with blood group B\n",
      "There are 13 patients with blood group AB\n",
      "There are 15 patients with blood group O\n",
      "There are 0 patients with blood group OO\n"
     ]
    }
   ],
   "source": [
    "def bldcount(get_file_name):\n",
    " f = open(get_file_name, \"r\")\n",
    " get_data = f.read()\n",
    " get_count = 0\n",
    " covert_array = get_data.split()\n",
    " base_data = ['A','B','AB','O','OO']\n",
    " for x in base_data:\n",
    "    get_count = covert_array.count(x)\n",
    "    print(\"There are {0} patients with blood group {1}\".format(get_count,x))\n",
    "\n",
    "bldcount(\"bloodtype1.txt\")\n",
    "        \n",
    "    \n",
    "\n"
   ]
  },
  {
   "cell_type": "markdown",
   "id": "21a97af1",
   "metadata": {},
   "source": [
    "Question 8\n",
    "\n",
    "Write a function curconv() that takes as input:1. a currency represented using a string (e.g., 'JPY' for the Japanese Yen or'EUR' for the Euro)2. an amountand then converts and returns the amount in US dollars.>>> curconv('EUR', 100)122.96544>>> curconv('JPY', 100)1.241401The currency rates you will need are stored in file currencies.txt:AUD 1.0345157 Australian DollarCHF 1.0237414 Swiss FrancCNY 0.1550176 Chinese Yuan DKK 0.1651442 Danish KroneEUR 1.2296544 EuroGBP 1.5550989 British PoundHKD 0.1270207 Hong Kong DollarINR 0.0177643 Indian RupeeJPY 0.01241401 Japanese YenMXN 0.0751848 Mexican PesoMYR 0.3145411 Malaysian RinggitNOK 0.1677063 Norwegian KroneNZD 0.8003591 New Zealand DollarPHP 0.0233234 Philippine PesoSEK 0.148269 Swedish KronaSGD 0.788871 Singapore DollarTHB 0.0313789 Thai Baht"
   ]
  },
  {
   "cell_type": "code",
   "execution_count": 17,
   "id": "1bf05a56",
   "metadata": {},
   "outputs": [
    {
     "name": "stdout",
     "output_type": "stream",
     "text": [
      "Enter Currency\n",
      "EUR\n",
      "EUR\n",
      "Enter Value\n",
      "100\n",
      "100\n",
      "122.96544\n"
     ]
    }
   ],
   "source": [
    "#8. Currency\n",
    "\n",
    "def curcov(curr_input,val_input):\n",
    "    f = open(\"currencies.txt\", \"r\") \n",
    "    get_data = f.read()\n",
    "    split_data = get_data.split()\n",
    "    get_index = split_data.index(curr_input)\n",
    "    conv_value = split_data[get_index+1]\n",
    "    calculate = float(conv_value) * float(val_input)\n",
    "    print(calculate)\n",
    "\n",
    "print(\"Enter Currency\")\n",
    "curr_input = input()\n",
    "print(curr_input)\n",
    "print(\"Enter Value\")\n",
    "val_input = input()\n",
    "print(val_input)\n",
    "curcov(curr_input,val_input)\n"
   ]
  },
  {
   "cell_type": "markdown",
   "id": "d8302c47",
   "metadata": {},
   "source": [
    "Question 9\n",
    "\n",
    "Each of the following will cause an exception (an error). Identify what type ofexception each will cause.\n",
    "a. Trying to add incompatible variables, as inadding 6 + ‘a’\n",
    "b. Referring to the 12th item of a list that has only 10items\n",
    "c. Using a value that is out of range for a function’sinput, such as calling math.sqrt(-1.0)\n",
    "d. Using an undeclared variable, such as print(x)when x has not been defined\n",
    "e. Trying to open a file that does not exist, such asmistyping the file name or looking in the wrongdirectory\n",
    "\n",
    "\n",
    "\n",
    "a. unsupported perand type\n",
    "b. list index out of range\n",
    "c. math domain error\n",
    "d. 'x' is not defined\n",
    "e. No such file or directory\n"
   ]
  },
  {
   "cell_type": "markdown",
   "id": "e3f43322",
   "metadata": {},
   "source": [
    "Question 10\n",
    "\n",
    "Encryption is the process of hiding the meaning of a text by substituting letters in themessage with other letters, according to some system. If the process is successful, noone but the intended recipient can understand the encrypted message. Cryptanalysisrefers to attempts to undo the encryption, even if some details of the encryption areunknown (for example, if an encrypted message has been intercepted). The first stepof cryptanalysis is often to build up a table of letter frequencies in the encrypted text.Assume that the string letters is already defined as'abcdefghijklmnopqrstuvwxyz'. Write a function called frequencies()that takes a string as its only parameter, and returns a list of integers, showing thenumber of times each character appears in the text. Your function may ignore anycharacters that are not in letters"
   ]
  },
  {
   "cell_type": "code",
   "execution_count": 1,
   "id": "ab5541d5",
   "metadata": {},
   "outputs": [
    {
     "name": "stdout",
     "output_type": "stream",
     "text": [
      "[1, 1, 1, 3, 5, 1, 1, 2, 1, 0, 1, 0, 1, 2, 4, 0, 1, 2, 0, 2, 1, 0, 1, 1, 0, 0]\n",
      "[1, 0, 0, 0, 1, 0, 0, 0, 0, 0, 0, 1, 0, 0, 0, 2, 0, 0, 0, 0, 0, 0, 0, 0, 0, 0]\n"
     ]
    }
   ],
   "source": [
    "#10. Encryption\n",
    "\n",
    "def frequencies(get_string):\n",
    "    char_string = []\n",
    "    char_array = []\n",
    "    string_alphabets = \"abcdefghijklmnopkrstuvwxyz\"\n",
    "\n",
    "    for x in get_string:\n",
    "        char_string.append(x)\n",
    "    \n",
    "    for x in string_alphabets:\n",
    "        char_array.append(char_string.count(x))\n",
    "        \n",
    "    print(char_array)\n",
    "\n",
    "frequencies('The quick red fox got bored and went home')\n",
    "frequencies('apple')\n"
   ]
  },
  {
   "cell_type": "code",
   "execution_count": null,
   "id": "d04f792a",
   "metadata": {},
   "outputs": [],
   "source": []
  },
  {
   "cell_type": "code",
   "execution_count": null,
   "id": "395df2be",
   "metadata": {},
   "outputs": [],
   "source": []
  }
 ],
 "metadata": {
  "kernelspec": {
   "display_name": "Python 3 (ipykernel)",
   "language": "python",
   "name": "python3"
  },
  "language_info": {
   "codemirror_mode": {
    "name": "ipython",
    "version": 3
   },
   "file_extension": ".py",
   "mimetype": "text/x-python",
   "name": "python",
   "nbconvert_exporter": "python",
   "pygments_lexer": "ipython3",
   "version": "3.11.5"
  }
 },
 "nbformat": 4,
 "nbformat_minor": 5
}
