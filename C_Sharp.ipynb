{
 "cells": [
  {
   "cell_type": "markdown",
   "id": "b3ed01e8",
   "metadata": {},
   "source": [
    "Question 1\n",
    "\n",
    "What data type is each of the following?\n",
    "\n",
    "\n",
    "1. 5=> integer\n",
    "2. 5.0 => double\n",
    "3. 5 > 1 => bool \n",
    "4. '5' => char\n",
    "5. 5 * 2 => integer\n",
    "6. '5' + '2' => integer\n",
    "7. 5/2 => integer\n",
    "8. 5 % 2 => integer\n",
    "9. {5,2,1} => array\n",
    "10. 5 == 3 => bool\n",
    "11. Pi(the number) => double\n",
    "\n"
   ]
  },
  {
   "cell_type": "markdown",
   "id": "52bb7f3c",
   "metadata": {},
   "source": [
    "Question 2\n",
    "\n",
    "Write (and evaluate) C# expressions that answer these questions:\n",
    "\n",
    "a. How many letters are there in 'Supercalifragilisticexpialidocious'?\n"
   ]
  },
  {
   "cell_type": "code",
   "execution_count": 2,
   "id": "d2a1df77",
   "metadata": {},
   "outputs": [
    {
     "name": "stdout",
     "output_type": "stream",
     "text": [
      "No. of letters in the word: 34\r\n"
     ]
    }
   ],
   "source": [
    "string s= \"Supercalifragilisticexpialidocious\";\n",
    "Console.WriteLine(\"No. of letters in the word: \" + s.Length);"
   ]
  },
  {
   "cell_type": "markdown",
   "id": "6b74c42b",
   "metadata": {},
   "source": [
    "2.b. Does 'Supercalifragilisticexpialidocious' contain 'ice' as a substring?"
   ]
  },
  {
   "cell_type": "code",
   "execution_count": 3,
   "id": "54e73aeb",
   "metadata": {},
   "outputs": [
    {
     "name": "stdout",
     "output_type": "stream",
     "text": [
      "The word contains \"ice\" as a substring\r\n"
     ]
    }
   ],
   "source": [
    "\n",
    "string s= \"Supercalifragilisticexpialidocious\";\n",
    "if (s.Contains (\"ice\"))\n",
    "{\n",
    "    Console.WriteLine (\"The word contains \\\"ice\\\" as a substring\");\n",
    "}\n",
    "else\n",
    "{\n",
    "  Console.WriteLine (\"The word doesnot contain \\\"ice\\\" as a substring\");\n",
    "}"
   ]
  },
  {
   "cell_type": "markdown",
   "id": "f4f762d2",
   "metadata": {},
   "source": [
    "c. Which of the following words is the longest:Supercalifragilisticexpialidocious,\n",
    "Honorificabilitudinitatibus, orBababadalgharaghtakamminarronnkonn?\n"
   ]
  },
  {
   "cell_type": "code",
   "execution_count": 4,
   "id": "cffd1b11",
   "metadata": {},
   "outputs": [
    {
     "name": "stdout",
     "output_type": "stream",
     "text": [
      "The longest word is: Supercalifragilisticexpialidocious\r\n"
     ]
    }
   ],
   "source": [
    " string s1 = \"Supercalifragilisticexpialidocious\";\n",
    "string s2 = \"Honorificabilitudinitatibus\";\n",
    "string s3 = \"Bababadalgharaghtakamminarronnkonn\";\n",
    "string longest = \"\";\n",
    "\n",
    "if (s1.Length >= s2.Length && s1.Length >= s3.Length)\n",
    "{\n",
    "    longest = s1;\n",
    "}\n",
    "else if (s2.Length >= s1.Length && s2.Length >= s3.Length)\n",
    "{\n",
    "    longest = s2;\n",
    "}\n",
    "else\n",
    "{\n",
    "    longest = s3;\n",
    "}\n",
    "Console.WriteLine(\"The longest word is: \" + longest)"
   ]
  },
  {
   "cell_type": "markdown",
   "id": "7eb82feb",
   "metadata": {},
   "source": [
    "d. Which composer comes first in the dictionary: 'Berlioz', 'Borodin', 'Brian',\n",
    "'Bartok', 'Bellini', 'Buxtehude', 'Bernstein'. Which one comes last?"
   ]
  },
  {
   "cell_type": "code",
   "execution_count": 5,
   "id": "65cf197b",
   "metadata": {},
   "outputs": [
    {
     "name": "stdout",
     "output_type": "stream",
     "text": [
      "The first composer in the dictionary is: Bartok\n",
      "The last composer in the dictionary is: Buxtehude\n"
     ]
    }
   ],
   "source": [
    "string[] composersDictionary = {\"Berlioz\", \"Borodin\", \"Brian\", \"Bartok\", \"Bellini\", \"Buxtehude\", \"Bernstein\"};\n",
    "\n",
    "Array.Sort(composersDictionary);\n",
    "\n",
    "// Find the first and last composers\n",
    "string firstComposer = composersDictionary[0];\n",
    "\n",
    "int length = composersDictionary.Length;\n",
    "string lastComposer = composersDictionary[length - 1];\n",
    "\n",
    "Console.WriteLine($\"The first composer in the dictionary is: \" + firstComposer);\n",
    "Console.WriteLine($\"The last composer in the dictionary is: \" + lastComposer);"
   ]
  },
  {
   "cell_type": "markdown",
   "id": "6658d019",
   "metadata": {},
   "source": [
    "Question 3\n",
    "\n",
    "Implement function triangleArea(a,b,c) that takes as input the\n",
    "lengths of the 3sides of a triangle and returns the area of the triangle.\n",
    "By Heron's formula, the areaof a triangle with side lengths a, b, and c \n",
    "iss(s - a)(s - b)(s - c) , wheres = (a + b + c) /2."
   ]
  },
  {
   "cell_type": "code",
   "execution_count": 17,
   "id": "c8b7962b",
   "metadata": {},
   "outputs": [
    {
     "name": "stdout",
     "output_type": "stream",
     "text": [
      "triangleArea(2,2,2): 1.7320508075688772\r\n"
     ]
    }
   ],
   "source": [
    "double a = 2;\n",
    "double b = 2;\n",
    "double c = 2;\n",
    "\n",
    "//Find semi-perimeter s\n",
    "double s = (a+b+c)/2;\n",
    "\n",
    "//find area\n",
    "double area = Math.Sqrt(s * (s-a) * (s-b) * (s-c));\n",
    "\n",
    "Console.WriteLine(\"triangleArea(2,2,2): \" + area);\n"
   ]
  },
  {
   "cell_type": "markdown",
   "id": "a842a7b1",
   "metadata": {},
   "source": [
    "Question 4\n",
    "\n",
    "Write a program in C# Sharp to separate odd and even integers in separate arrays.\n",
    "Go to the editorTest Data :\n",
    "Input the number of elements to be stored in the array :5\n",
    "Input 5 elements in the array :element - 0 : 25element - 1 : 47\n",
    "element - 2 : 42element - 3 : 56element - 4 : 32"
   ]
  },
  {
   "cell_type": "code",
   "execution_count": 25,
   "id": "3c20e525",
   "metadata": {},
   "outputs": [
    {
     "name": "stdout",
     "output_type": "stream",
     "text": [
      "The even elements are: \n",
      "42 56 32 \n",
      "The odd elements are: 25 47 \n"
     ]
    }
   ],
   "source": [
    "int n = 5;\n",
    "\n",
    "int[] inputArray = new int[n];\n",
    "int[] evenArray = new int[n];\n",
    "int[] oddArray = new int[n];\n",
    "\n",
    "inputArray[0] = 25;\n",
    "inputArray[1] = 47;\n",
    "inputArray[2] = 42;\n",
    "inputArray[3] = 56;\n",
    "inputArray[4] = 32;\n",
    "\n",
    "int even = 0;\n",
    "int odd = 0;\n",
    "\n",
    "foreach (int num in inputArray)\n",
    "{\n",
    "    if (num % 2 == 0)\n",
    "    {\n",
    "        evenArray[even] = num;\n",
    "        even++;\n",
    "    }\n",
    "    else\n",
    "    {\n",
    "        oddArray [odd] = num;\n",
    "        odd++;\n",
    "    }\n",
    "}\n",
    "\n",
    "Console.WriteLine(\"The even elements are: \" );\n",
    "for (int i = 0; i < even; i++)\n",
    "{\n",
    "    Console.Write(evenArray[i] + \" \");\n",
    "}\n",
    "\n",
    "Console.WriteLine();\n",
    "\n",
    "\n",
    "Console.Write (\"The odd elements are: \" );\n",
    "for (int i = 0; i < odd; i++)\n",
    "{\n",
    "    Console.Write(oddArray[i] + \" \");\n",
    "}\n",
    "\n",
    "Console.WriteLine();"
   ]
  },
  {
   "cell_type": "markdown",
   "id": "cbb3d3d0",
   "metadata": {},
   "source": [
    "Question 5\n",
    "\n",
    "a. Write a function inside(x,y,x1,y1,x2,y2) that returns True or Falsedepending on whether the point (x,y) lies in the rectangle with lower leftcorner (x1,y1) and upper right corner (x2,y2).>>> inside(1,1,0,0,2,3)True>>> inside(-1,-1,0,0,2,3)False"
   ]
  },
  {
   "cell_type": "code",
   "execution_count": 23,
   "id": "d7cd5366",
   "metadata": {},
   "outputs": [
    {
     "name": "stdout",
     "output_type": "stream",
     "text": [
      "Inside(1,1,0,0,2,3): True\n",
      "Inside(-1,-1,0,0,2,3): False\n"
     ]
    }
   ],
   "source": [
    "static bool Inside(double x, double y, double x1, double y1, double x2, double y2)\n",
    "\n",
    "{\n",
    " return (x >= x1 && x <= x2) && (y >= y1 && y <= y2);\n",
    "}\n",
    "\n",
    "bool inRect1 = Inside(1,1,0,0,2,3);\n",
    "bool inRect2 = Inside (-1,-1,0,0,2,3);\n",
    "\n",
    "if (inRect1)\n",
    "{\n",
    " Console.WriteLine($\"Inside(1,1,0,0,2,3): True\");\n",
    "}\n",
    "else\n",
    "{\n",
    " Console.WriteLine($\"Inside(1,1,0,0,2,3): False\");\n",
    "}\n",
    "if (inRect2)\n",
    "{\n",
    " Console.WriteLine($\"Inside(-1,-1,0,0,2,3): True\");\n",
    "}\n",
    "else\n",
    "{\n",
    "Console.WriteLine($\"Inside(-1,-1,0,0,2,3): False\");\n",
    "}"
   ]
  },
  {
   "cell_type": "markdown",
   "id": "4a551a4a",
   "metadata": {},
   "source": [
    "b. Use function inside() from part a. to write an expression that tests whetherthe point (1,1) lies in both of the following rectangles: one with lower leftcorner (0.3, 0.5) and upper right corner (1.1, 0.7) and the other with lowerleft corner (0.5, 0.2) and upper right corner (1.1, 2)"
   ]
  },
  {
   "cell_type": "code",
   "execution_count": 24,
   "id": "4600bfe1",
   "metadata": {},
   "outputs": [
    {
     "name": "stdout",
     "output_type": "stream",
     "text": [
      "(1,1) is not a point that lies inside both rectangles\r\n"
     ]
    }
   ],
   "source": [
    "static bool Inside(double x, double y, double x1, double y1, double x2, double y2)\n",
    "\n",
    "{\n",
    " return (x >= x1 && x <= x2) && (y >= y1 && y <= y2);\n",
    "}\n",
    "\n",
    "bool inRect1 = Inside(1,1,0.3,0.5,1.1,0.7);\n",
    "bool inRect2 = Inside (1,1,0.5,0.2,1.1,2);\n",
    "\n",
    "if (inRect1 && inRect2)\n",
    "{\n",
    " Console.WriteLine($\"(1,1) is a point that lies inside both rectangles.\");\n",
    "}\n",
    "else\n",
    "{\n",
    " Console.WriteLine($\"(1,1) is not a point that lies inside both rectangles\");\n",
    "}\n",
    "\n"
   ]
  },
  {
   "cell_type": "code",
   "execution_count": null,
   "id": "c6d345bb",
   "metadata": {},
   "outputs": [],
   "source": []
  }
 ],
 "metadata": {
  "kernelspec": {
   "display_name": ".NET (C#)",
   "language": "C#",
   "name": ".net-csharp"
  },
  "language_info": {
   "file_extension": ".cs",
   "mimetype": "text/x-csharp",
   "name": "C#",
   "pygments_lexer": "csharp",
   "version": "11.0"
  }
 },
 "nbformat": 4,
 "nbformat_minor": 5
}
